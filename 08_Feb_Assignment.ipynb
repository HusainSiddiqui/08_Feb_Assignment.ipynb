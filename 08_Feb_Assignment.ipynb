{
 "cells": [
  {
   "cell_type": "markdown",
   "metadata": {},
   "source": [
    "Q1. What is Abstraction in OOps? Explain with an example."
   ]
  },
  {
   "cell_type": "markdown",
   "metadata": {},
   "source": [
    "Ans1. Its main goal is to handle complexity by hiding unnecessary details from the user\n",
    "Example:"
   ]
  },
  {
   "cell_type": "code",
   "execution_count": 1,
   "metadata": {},
   "outputs": [],
   "source": [
    "from abc import abstractmethod,ABC\n",
    "class BankApp(ABC):\n",
    "    def Database():\n",
    "        print('Database connected..')\n",
    "    \n",
    "    @abstractmethod\n",
    "    def security(self):\n",
    "        pass"
   ]
  },
  {
   "cell_type": "code",
   "execution_count": 2,
   "metadata": {},
   "outputs": [],
   "source": [
    "class MobileApp(BankApp):\n",
    "    \n",
    "    def Mobilelogging(self):\n",
    "        print('Mobile Logging')"
   ]
  },
  {
   "cell_type": "code",
   "execution_count": 3,
   "metadata": {},
   "outputs": [],
   "source": [
    "mapp=MobileApp()\n",
    "mapp.Mobilelogging()"
   ]
  },
  {
   "cell_type": "markdown",
   "metadata": {},
   "source": [
    "Note: MobileApp must contain security method because parent class have declare as @abstractmethod"
   ]
  },
  {
   "cell_type": "code",
   "execution_count": null,
   "metadata": {},
   "outputs": [],
   "source": [
    "class MobileApp(BankApp):\n",
    "    \n",
    "    def Mobilelogging(self):\n",
    "        print('Mobile Logging')\n",
    "    \n",
    "    def security(self):\n",
    "        print('Security')"
   ]
  },
  {
   "cell_type": "code",
   "execution_count": null,
   "metadata": {},
   "outputs": [],
   "source": [
    "mapp=MobileApp()\n",
    "mapp.Mobilelogging()"
   ]
  },
  {
   "cell_type": "code",
   "execution_count": null,
   "metadata": {},
   "outputs": [],
   "source": [
    "Bapp=BankApp()"
   ]
  },
  {
   "cell_type": "markdown",
   "metadata": {},
   "source": [
    "Note: Can't create BankApp class object because BankApp with abstract class"
   ]
  },
  {
   "cell_type": "code",
   "execution_count": null,
   "metadata": {},
   "outputs": [],
   "source": []
  },
  {
   "cell_type": "markdown",
   "metadata": {},
   "source": [
    "Q2. Differentiate between Abstraction and Encapsulation. Explain with an example."
   ]
  },
  {
   "cell_type": "markdown",
   "metadata": {},
   "source": [
    "Ans2.\n",
    "Abstraction is a feature of OOPs                               Encapsulation is also a feature of OOPs.\n",
    "\n",
    "that hides the unnecessary detail but                          It hides the code and data into a single entity or unit\n",
    "shows the essential information.                               so that the data can be protected from the outside world.\n",
    "\n",
    "Abstraction is basically to hide implementation complexity     Encapsulation is basically binding data members &\n",
    "& provide ease of access to the users.                         member functions into a single unit called Class.\n",
    "                                                               "
   ]
  },
  {
   "cell_type": "code",
   "execution_count": null,
   "metadata": {},
   "outputs": [],
   "source": []
  },
  {
   "cell_type": "markdown",
   "metadata": {},
   "source": [
    "Q3. What is abc module in python? Why is it used?"
   ]
  },
  {
   "cell_type": "markdown",
   "metadata": {},
   "source": [
    "Ans3.\n",
    "The 'abc' module in Python library provides the infrastructure for defining custom abstract base classes. \n",
    "'abc' works by marking methods of the base class as abstract. \n",
    "This is done by @absttractmethod decorator\n",
    "\n"
   ]
  },
  {
   "cell_type": "markdown",
   "metadata": {},
   "source": [
    "Q4. How can we achieve data abstraction?"
   ]
  },
  {
   "cell_type": "markdown",
   "metadata": {},
   "source": [
    "Ans4.\n",
    "We can define an abstract method using @abstractmethod keyword on the top of a method. \n",
    "We can use abc module of python to achieve data abstraction in python. \n",
    "To define an abstract method in python we can import abstractmethod from the abc module of python. \n",
    "Let’s understand how to define data abstraction in python with help of an example.\n",
    "\n",
    "# abstraction in python\n",
    "from abc import ABC,abstractmethod\n",
    "\n",
    "class Prepbytes(ABC):\n",
    "    @abstractmethod\n",
    "    def my_method(self):\n",
    "        # body will always be empty\n",
    "        Pass"
   ]
  },
  {
   "cell_type": "markdown",
   "metadata": {},
   "source": [
    "Q5. Can we create an instance of an abstract class? Explain your answer."
   ]
  },
  {
   "cell_type": "markdown",
   "metadata": {},
   "source": [
    "Ans5. Can't create BankApp class object because BankApp with abstract class"
   ]
  }
 ],
 "metadata": {
  "kernelspec": {
   "display_name": "Python 3",
   "language": "python",
   "name": "python3"
  },
  "language_info": {
   "codemirror_mode": {
    "name": "ipython",
    "version": 3
   },
   "file_extension": ".py",
   "mimetype": "text/x-python",
   "name": "python",
   "nbconvert_exporter": "python",
   "pygments_lexer": "ipython3",
   "version": "3.6.5"
  }
 },
 "nbformat": 4,
 "nbformat_minor": 2
}
